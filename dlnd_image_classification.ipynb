{
 "cells": [
  {
   "cell_type": "markdown",
   "metadata": {
    "collapsed": true
   },
   "source": [
    "# Image Classification\n",
    "In this project, you'll classify images from the [CIFAR-10 dataset](https://www.cs.toronto.edu/~kriz/cifar.html).  The dataset consists of airplanes, dogs, cats, and other objects. You'll preprocess the images, then train a convolutional neural network on all the samples. The images need to be normalized and the labels need to be one-hot encoded.  You'll get to apply what you learned and build a convolutional, max pooling, dropout, and fully connected layers.  At the end, you'll get to see your neural network's predictions on the sample images.\n",
    "## Get the Data\n",
    "Run the following cell to download the [CIFAR-10 dataset for python](https://www.cs.toronto.edu/~kriz/cifar-10-python.tar.gz)."
   ]
  },
  {
   "cell_type": "code",
   "execution_count": null,
   "metadata": {},
   "outputs": [],
   "source": [
    "\"\"\"\n",
    "DON'T MODIFY ANYTHING IN THIS CELL THAT IS BELOW THIS LINE\n",
    "\"\"\"\n",
    "from urllib.request import urlretrieve\n",
    "from os.path import isfile, isdir\n",
    "from tqdm import tqdm\n",
    "import problem_unittests as tests\n",
    "import tarfile\n",
    "\n",
    "cifar10_dataset_folder_path = 'cifar-10-batches-py'\n",
    "\n",
    "# Use Floyd's cifar-10 dataset if present\n",
    "floyd_cifar10_location = '/cifar/cifar-10-python.tar.gz'\n",
    "if isfile(floyd_cifar10_location):\n",
    "    tar_gz_path = floyd_cifar10_location\n",
    "else:\n",
    "    tar_gz_path = 'cifar-10-python.tar.gz'\n",
    "\n",
    "class DLProgress(tqdm):\n",
    "    last_block = 0\n",
    "\n",
    "    def hook(self, block_num=1, block_size=1, total_size=None):\n",
    "        self.total = total_size\n",
    "        self.update((block_num - self.last_block) * block_size)\n",
    "        self.last_block = block_num\n",
    "\n",
    "if not isfile(tar_gz_path):\n",
    "    with DLProgress(unit='B', unit_scale=True, miniters=1, desc='CIFAR-10 Dataset') as pbar:\n",
    "        urlretrieve(\n",
    "            'https://www.cs.toronto.edu/~kriz/cifar-10-python.tar.gz',\n",
    "            tar_gz_path,\n",
    "            pbar.hook)\n",
    "\n",
    "if not isdir(cifar10_dataset_folder_path):\n",
    "    with tarfile.open(tar_gz_path) as tar:\n",
    "        tar.extractall()\n",
    "        tar.close()\n",
    "\n",
    "\n",
    "tests.test_folder_path(cifar10_dataset_folder_path)"
   ]
  },
  {
   "cell_type": "markdown",
   "metadata": {},
   "source": [
    "## Explore the Data\n",
    "The dataset is broken into batches to prevent your machine from running out of memory.  The CIFAR-10 dataset consists of 5 batches, named `data_batch_1`, `data_batch_2`, etc.. Each batch contains the labels and images that are one of the following:\n",
    "* airplane\n",
    "* automobile\n",
    "* bird\n",
    "* cat\n",
    "* deer\n",
    "* dog\n",
    "* frog\n",
    "* horse\n",
    "* ship\n",
    "* truck\n",
    "\n",
    "Understanding a dataset is part of making predictions on the data.  Play around with the code cell below by changing the `batch_id` and `sample_id`. The `batch_id` is the id for a batch (1-5). The `sample_id` is the id for a image and label pair in the batch.\n",
    "\n",
    "Ask yourself \"What are all possible labels?\", \"What is the range of values for the image data?\", \"Are the labels in order or random?\".  Answers to questions like these will help you preprocess the data and end up with better predictions."
   ]
  },
  {
   "cell_type": "code",
   "execution_count": null,
   "metadata": {},
   "outputs": [],
   "source": [
    "%matplotlib inline\n",
    "%config InlineBackend.figure_format = 'retina'\n",
    "\n",
    "import helper\n",
    "import numpy as np\n",
    "\n",
    "# Explore the dataset\n",
    "batch_id = 5\n",
    "sample_id = 20\n",
    "helper.display_stats(cifar10_dataset_folder_path, batch_id, sample_id)"
   ]
  },
  {
   "cell_type": "markdown",
   "metadata": {},
   "source": [
    "## Implement Preprocess Functions\n",
    "### Normalize\n",
    "In the cell below, implement the `normalize` function to take in image data, `x`, and return it as a normalized Numpy array. The values should be in the range of 0 to 1, inclusive.  The return object should be the same shape as `x`."
   ]
  },
  {
   "cell_type": "code",
   "execution_count": null,
   "metadata": {},
   "outputs": [],
   "source": [
    "def normalize(x):\n",
    "    \"\"\"\n",
    "    Normalize a list of sample image data in the range of 0 to 1\n",
    "    : x: List of image data.  The image shape is (32, 32, 3)\n",
    "    : return: Numpy array of normalize data\n",
    "    \"\"\"       \n",
    "    return np.divide(x,255)\n",
    "\n",
    "\n",
    "\"\"\"\n",
    "DON'T MODIFY ANYTHING IN THIS CELL THAT IS BELOW THIS LINE\n",
    "\"\"\"\n",
    "tests.test_normalize(normalize)"
   ]
  },
  {
   "cell_type": "markdown",
   "metadata": {},
   "source": [
    "### One-hot encode\n",
    "Just like the previous code cell, you'll be implementing a function for preprocessing.  This time, you'll implement the `one_hot_encode` function. The input, `x`, are a list of labels.  Implement the function to return the list of labels as One-Hot encoded Numpy array.  The possible values for labels are 0 to 9. The one-hot encoding function should return the same encoding for each value between each call to `one_hot_encode`.  Make sure to save the map of encodings outside the function.\n",
    "\n",
    "Hint: Don't reinvent the wheel."
   ]
  },
  {
   "cell_type": "code",
   "execution_count": null,
   "metadata": {},
   "outputs": [],
   "source": [
    "def one_hot_encode(x):\n",
    "    \"\"\"\n",
    "    One hot encode a list of sample labels. Return a one-hot encoded vector for each label.\n",
    "    : x: List of sample Labels\n",
    "    : return: Numpy array of one-hot encoded labels\n",
    "    \"\"\"\n",
    "    from sklearn.preprocessing import LabelBinarizer\n",
    "    encoder = LabelBinarizer()\n",
    "    encoder.fit(range(max(x)+1))\n",
    "    return encoder.transform(x)\n",
    "\n",
    "\"\"\"\n",
    "DON'T MODIFY ANYTHING IN THIS CELL THAT IS BELOW THIS LINE\n",
    "\"\"\"\n",
    "tests.test_one_hot_encode(one_hot_encode)"
   ]
  },
  {
   "cell_type": "markdown",
   "metadata": {},
   "source": [
    "### Randomize Data\n",
    "As you saw from exploring the data above, the order of the samples are randomized.  It doesn't hurt to randomize it again, but you don't need to for this dataset."
   ]
  },
  {
   "cell_type": "markdown",
   "metadata": {},
   "source": [
    "## Preprocess all the data and save it\n",
    "Running the code cell below will preprocess all the CIFAR-10 data and save it to file. The code below also uses 10% of the training data for validation."
   ]
  },
  {
   "cell_type": "code",
   "execution_count": 1,
   "metadata": {},
   "outputs": [
    {
     "ename": "NameError",
     "evalue": "name 'helper' is not defined",
     "output_type": "error",
     "traceback": [
      "\u001b[0;31m---------------------------------------------------------------------------\u001b[0m",
      "\u001b[0;31mNameError\u001b[0m                                 Traceback (most recent call last)",
      "\u001b[0;32m<ipython-input-1-2e43b03e04f3>\u001b[0m in \u001b[0;36m<module>\u001b[0;34m()\u001b[0m\n\u001b[1;32m      3\u001b[0m \"\"\"\n\u001b[1;32m      4\u001b[0m \u001b[0;31m# Preprocess Training, Validation, and Testing Data\u001b[0m\u001b[0;34m\u001b[0m\u001b[0;34m\u001b[0m\u001b[0m\n\u001b[0;32m----> 5\u001b[0;31m \u001b[0mhelper\u001b[0m\u001b[0;34m.\u001b[0m\u001b[0mpreprocess_and_save_data\u001b[0m\u001b[0;34m(\u001b[0m\u001b[0mcifar10_dataset_folder_path\u001b[0m\u001b[0;34m,\u001b[0m \u001b[0mnormalize\u001b[0m\u001b[0;34m,\u001b[0m \u001b[0mone_hot_encode\u001b[0m\u001b[0;34m)\u001b[0m\u001b[0;34m\u001b[0m\u001b[0m\n\u001b[0m",
      "\u001b[0;31mNameError\u001b[0m: name 'helper' is not defined"
     ]
    }
   ],
   "source": [
    "\"\"\"\n",
    "DON'T MODIFY ANYTHING IN THIS CELL\n",
    "\"\"\"\n",
    "# Preprocess Training, Validation, and Testing Data\n",
    "helper.preprocess_and_save_data(cifar10_dataset_folder_path, normalize, one_hot_encode)"
   ]
  },
  {
   "cell_type": "markdown",
   "metadata": {},
   "source": [
    "# Check Point\n",
    "This is your first checkpoint.  If you ever decide to come back to this notebook or have to restart the notebook, you can start from here.  The preprocessed data has been saved to disk."
   ]
  },
  {
   "cell_type": "code",
   "execution_count": 2,
   "metadata": {
    "collapsed": true
   },
   "outputs": [],
   "source": [
    "\"\"\"\n",
    "DON'T MODIFY ANYTHING IN THIS CELL\n",
    "\"\"\"\n",
    "import pickle\n",
    "import problem_unittests as tests\n",
    "import helper\n",
    "\n",
    "# Load the Preprocessed Validation data\n",
    "valid_features, valid_labels = pickle.load(open('preprocess_validation.p', mode='rb'))"
   ]
  },
  {
   "cell_type": "markdown",
   "metadata": {},
   "source": [
    "## Build the network\n",
    "For the neural network, you'll build each layer into a function.  Most of the code you've seen has been outside of functions. To test your code more thoroughly, we require that you put each layer in a function.  This allows us to give you better feedback and test for simple mistakes using our unittests before you submit your project.\n",
    "\n",
    ">**Note:** If you're finding it hard to dedicate enough time for this course each week, we've provided a small shortcut to this part of the project. In the next couple of problems, you'll have the option to use classes from the [TensorFlow Layers](https://www.tensorflow.org/api_docs/python/tf/layers) or [TensorFlow Layers (contrib)](https://www.tensorflow.org/api_guides/python/contrib.layers) packages to build each layer, except the layers you build in the \"Convolutional and Max Pooling Layer\" section.  TF Layers is similar to Keras's and TFLearn's abstraction to layers, so it's easy to pickup.\n",
    "\n",
    ">However, if you would like to get the most out of this course, try to solve all the problems _without_ using anything from the TF Layers packages. You **can** still use classes from other packages that happen to have the same name as ones you find in TF Layers! For example, instead of using the TF Layers version of the `conv2d` class, [tf.layers.conv2d](https://www.tensorflow.org/api_docs/python/tf/layers/conv2d), you would want to use the TF Neural Network version of `conv2d`, [tf.nn.conv2d](https://www.tensorflow.org/api_docs/python/tf/nn/conv2d). \n",
    "\n",
    "Let's begin!\n",
    "\n",
    "### Input\n",
    "The neural network needs to read the image data, one-hot encoded labels, and dropout keep probability. Implement the following functions\n",
    "* Implement `neural_net_image_input`\n",
    " * Return a [TF Placeholder](https://www.tensorflow.org/api_docs/python/tf/placeholder)\n",
    " * Set the shape using `image_shape` with batch size set to `None`.\n",
    " * Name the TensorFlow placeholder \"x\" using the TensorFlow `name` parameter in the [TF Placeholder](https://www.tensorflow.org/api_docs/python/tf/placeholder).\n",
    "* Implement `neural_net_label_input`\n",
    " * Return a [TF Placeholder](https://www.tensorflow.org/api_docs/python/tf/placeholder)\n",
    " * Set the shape using `n_classes` with batch size set to `None`.\n",
    " * Name the TensorFlow placeholder \"y\" using the TensorFlow `name` parameter in the [TF Placeholder](https://www.tensorflow.org/api_docs/python/tf/placeholder).\n",
    "* Implement `neural_net_keep_prob_input`\n",
    " * Return a [TF Placeholder](https://www.tensorflow.org/api_docs/python/tf/placeholder) for dropout keep probability.\n",
    " * Name the TensorFlow placeholder \"keep_prob\" using the TensorFlow `name` parameter in the [TF Placeholder](https://www.tensorflow.org/api_docs/python/tf/placeholder).\n",
    "\n",
    "These names will be used at the end of the project to load your saved model.\n",
    "\n",
    "Note: `None` for shapes in TensorFlow allow for a dynamic size."
   ]
  },
  {
   "cell_type": "code",
   "execution_count": 3,
   "metadata": {},
   "outputs": [
    {
     "name": "stdout",
     "output_type": "stream",
     "text": [
      "Image Input Tests Passed.\n",
      "Label Input Tests Passed.\n",
      "Keep Prob Tests Passed.\n"
     ]
    }
   ],
   "source": [
    "import tensorflow as tf\n",
    "\n",
    "\n",
    "def neural_net_image_input(image_shape):\n",
    "    \"\"\"\n",
    "    Return a Tensor for a batch of image input\n",
    "    : image_shape: Shape of the images\n",
    "    : return: Tensor for image input.\n",
    "    \"\"\"\n",
    "    return tf.placeholder(tf.float32,[None, *image_shape],name='x')\n",
    "\n",
    "\n",
    "def neural_net_label_input(n_classes):\n",
    "    \"\"\"\n",
    "    Return a Tensor for a batch of label input\n",
    "    : n_classes: Number of classes\n",
    "    : return: Tensor for label input.\n",
    "    \"\"\"\n",
    "    return tf.placeholder(tf.float32,[None,n_classes],name='y')\n",
    "\n",
    "\n",
    "def neural_net_keep_prob_input():\n",
    "    \"\"\"\n",
    "    Return a Tensor for keep probability\n",
    "    : return: Tensor for keep probability.\n",
    "    \"\"\"\n",
    "    return tf.placeholder(tf.float32,name=\"keep_prob\")\n",
    "     \n",
    "\n",
    "\"\"\"\n",
    "DON'T MODIFY ANYTHING IN THIS CELL THAT IS BELOW THIS LINE\n",
    "\"\"\"\n",
    "tf.reset_default_graph()\n",
    "tests.test_nn_image_inputs(neural_net_image_input)\n",
    "tests.test_nn_label_inputs(neural_net_label_input)\n",
    "tests.test_nn_keep_prob_inputs(neural_net_keep_prob_input)"
   ]
  },
  {
   "cell_type": "markdown",
   "metadata": {},
   "source": [
    "### Convolution and Max Pooling Layer\n",
    "Convolution layers have a lot of success with images. For this code cell, you should implement the function `conv2d_maxpool` to apply convolution then max pooling:\n",
    "* Create the weight and bias using `conv_ksize`, `conv_num_outputs` and the shape of `x_tensor`.\n",
    "* Apply a convolution to `x_tensor` using weight and `conv_strides`.\n",
    " * We recommend you use same padding, but you're welcome to use any padding.\n",
    "* Add bias\n",
    "* Add a nonlinear activation to the convolution.\n",
    "* Apply Max Pooling using `pool_ksize` and `pool_strides`.\n",
    " * We recommend you use same padding, but you're welcome to use any padding.\n",
    "\n",
    "**Note:** You **can't** use [TensorFlow Layers](https://www.tensorflow.org/api_docs/python/tf/layers) or [TensorFlow Layers (contrib)](https://www.tensorflow.org/api_guides/python/contrib.layers) for **this** layer, but you can still use TensorFlow's [Neural Network](https://www.tensorflow.org/api_docs/python/tf/nn) package. You may still use the shortcut option for all the **other** layers."
   ]
  },
  {
   "cell_type": "code",
   "execution_count": 4,
   "metadata": {},
   "outputs": [
    {
     "name": "stdout",
     "output_type": "stream",
     "text": [
      "Tests Passed\n"
     ]
    }
   ],
   "source": [
    "def conv2d_maxpool(x_tensor, conv_num_outputs, conv_ksize, conv_strides, pool_ksize, pool_strides):\n",
    "    \"\"\"\n",
    "    Apply convolution then max pooling to x_tensor\n",
    "    :param x_tensor: TensorFlow Tensor\n",
    "    :param conv_num_outputs: Number of outputs for the convolutional layer\n",
    "    :param conv_ksize: kernal size 2-D Tuple for the convolutional layer\n",
    "    :param conv_strides: Stride 2-D Tuple for convolution\n",
    "    :param pool_ksize: kernal size 2-D Tuple for pool\n",
    "    :param pool_strides: Stride 2-D Tuple for pool\n",
    "    : return: A tensor that represents convolution and max pooling of x_tensor\n",
    "    \"\"\"\n",
    "    weights = tf.Variable(tf.truncated_normal([conv_ksize[0],conv_ksize[1],x_tensor.shape[3].value ,conv_num_outputs],mean=0.0, stddev=0.1,))\n",
    "    baises = tf.Variable(tf.zeros([conv_num_outputs]))\n",
    "    \n",
    "    ## Reformat for use\n",
    "    conv_strides = [1,*conv_strides,1]\n",
    "    pool_ksize = [1, *pool_ksize, 1]\n",
    "    pool_strides = [1,*pool_strides,1]\n",
    "    \n",
    "    ## Conv Layer\n",
    "    x_tensor = tf.nn.conv2d(x_tensor,weights,conv_strides,padding=\"SAME\")\n",
    "    # Adding bias\n",
    "    x_tensor = tf.nn.bias_add(x_tensor,baises)\n",
    "    # Non Linear Activation : ReLu\n",
    "    x_tensor = tf.nn.relu(x_tensor)\n",
    "        \n",
    "    # Max Pooling\n",
    "    return tf.nn.max_pool(x_tensor,pool_ksize,pool_strides,padding=\"SAME\") \n",
    "\n",
    "\n",
    "\"\"\"\n",
    "DON'T MODIFY ANYTHING IN THIS CELL THAT IS BELOW THIS LINE\n",
    "\"\"\"\n",
    "tests.test_con_pool(conv2d_maxpool)"
   ]
  },
  {
   "cell_type": "markdown",
   "metadata": {},
   "source": [
    "### Flatten Layer\n",
    "Implement the `flatten` function to change the dimension of `x_tensor` from a 4-D tensor to a 2-D tensor.  The output should be the shape (*Batch Size*, *Flattened Image Size*). Shortcut option: you can use classes from the [TensorFlow Layers](https://www.tensorflow.org/api_docs/python/tf/layers) or [TensorFlow Layers (contrib)](https://www.tensorflow.org/api_guides/python/contrib.layers) packages for this layer. For more of a challenge, only use other TensorFlow packages."
   ]
  },
  {
   "cell_type": "code",
   "execution_count": 5,
   "metadata": {},
   "outputs": [
    {
     "name": "stdout",
     "output_type": "stream",
     "text": [
      "Tests Passed\n"
     ]
    }
   ],
   "source": [
    "def flatten(x_tensor):\n",
    "    \"\"\"\n",
    "    Flatten x_tensor to (Batch Size, Flattened Image Size)\n",
    "    : x_tensor: A tensor of size (Batch Size, ...), where ... are the image dimensions.\n",
    "    : return: A tensor of size (Batch Size, Flattened Image Size).\n",
    "    \"\"\"\n",
    "    return tf.contrib.layers.flatten(x_tensor)\n",
    "\n",
    "\"\"\"\n",
    "DON'T MODIFY ANYTHING IN THIS CELL THAT IS BELOW THIS LINE\n",
    "\"\"\"\n",
    "tests.test_flatten(flatten)"
   ]
  },
  {
   "cell_type": "markdown",
   "metadata": {},
   "source": [
    "### Fully-Connected Layer\n",
    "Implement the `fully_conn` function to apply a fully connected layer to `x_tensor` with the shape (*Batch Size*, *num_outputs*). Shortcut option: you can use classes from the [TensorFlow Layers](https://www.tensorflow.org/api_docs/python/tf/layers) or [TensorFlow Layers (contrib)](https://www.tensorflow.org/api_guides/python/contrib.layers) packages for this layer. For more of a challenge, only use other TensorFlow packages."
   ]
  },
  {
   "cell_type": "code",
   "execution_count": 6,
   "metadata": {},
   "outputs": [
    {
     "name": "stdout",
     "output_type": "stream",
     "text": [
      "Tests Passed\n"
     ]
    }
   ],
   "source": [
    "def fully_conn(x_tensor, num_outputs):\n",
    "    \"\"\"\n",
    "    Apply a fully connected layer to x_tensor using weight and bias\n",
    "    : x_tensor: A 2-D tensor where the first dimension is batch size.\n",
    "    : num_outputs: The number of output that the new tensor should be.\n",
    "    : return: A 2-D tensor where the second dimension is num_outputs.\n",
    "    \"\"\"\n",
    "    shape = x_tensor.get_shape().as_list()\n",
    "    weights = tf.Variable(tf.truncated_normal([shape[1], num_outputs], stddev=0.1))\n",
    "    bias = tf.Variable(tf.zeros(num_outputs))\n",
    "    \n",
    "    fc = tf.add(tf.matmul(x_tensor, weights), bias)\n",
    "    return tf.nn.relu(fc)\n",
    "\n",
    "\n",
    "\"\"\"\n",
    "DON'T MODIFY ANYTHING IN THIS CELL THAT IS BELOW THIS LINE\n",
    "\"\"\"\n",
    "tests.test_fully_conn(fully_conn)"
   ]
  },
  {
   "cell_type": "markdown",
   "metadata": {},
   "source": [
    "### Output Layer\n",
    "Implement the `output` function to apply a fully connected layer to `x_tensor` with the shape (*Batch Size*, *num_outputs*). Shortcut option: you can use classes from the [TensorFlow Layers](https://www.tensorflow.org/api_docs/python/tf/layers) or [TensorFlow Layers (contrib)](https://www.tensorflow.org/api_guides/python/contrib.layers) packages for this layer. For more of a challenge, only use other TensorFlow packages.\n",
    "\n",
    "**Note:** Activation, softmax, or cross entropy should **not** be applied to this."
   ]
  },
  {
   "cell_type": "code",
   "execution_count": 7,
   "metadata": {},
   "outputs": [
    {
     "name": "stdout",
     "output_type": "stream",
     "text": [
      "Tests Passed\n"
     ]
    }
   ],
   "source": [
    "def output(x_tensor, num_outputs):\n",
    "    \"\"\"\n",
    "    Apply a output layer to x_tensor using weight and bias\n",
    "    : x_tensor: A 2-D tensor where the first dimension is batch size.\n",
    "    : num_outputs: The number of output that the new tensor should be.\n",
    "    : return: A 2-D tensor where the second dimension is num_outputs.\n",
    "    \"\"\"\n",
    "    shape = x_tensor.get_shape().as_list()\n",
    "    weights = tf.Variable(tf.truncated_normal([shape[1], num_outputs], stddev=0.1))\n",
    "    bias = tf.Variable(tf.zeros(num_outputs))\n",
    "    return tf.add(tf.matmul(x_tensor, weights), bias)\n",
    "\n",
    "\n",
    "\"\"\"\n",
    "DON'T MODIFY ANYTHING IN THIS CELL THAT IS BELOW THIS LINE\n",
    "\"\"\"\n",
    "tests.test_output(output)"
   ]
  },
  {
   "cell_type": "markdown",
   "metadata": {},
   "source": [
    "### Create Convolutional Model\n",
    "Implement the function `conv_net` to create a convolutional neural network model. The function takes in a batch of images, `x`, and outputs logits.  Use the layers you created above to create this model:\n",
    "\n",
    "* Apply 1, 2, or 3 Convolution and Max Pool layers\n",
    "* Apply a Flatten Layer\n",
    "* Apply 1, 2, or 3 Fully Connected Layers\n",
    "* Apply an Output Layer\n",
    "* Return the output\n",
    "* Apply [TensorFlow's Dropout](https://www.tensorflow.org/api_docs/python/tf/nn/dropout) to one or more layers in the model using `keep_prob`. "
   ]
  },
  {
   "cell_type": "code",
   "execution_count": 8,
   "metadata": {},
   "outputs": [
    {
     "name": "stdout",
     "output_type": "stream",
     "text": [
      "Neural Network Built!\n"
     ]
    }
   ],
   "source": [
    "def conv_net(x, keep_prob):\n",
    "    \"\"\"\n",
    "    Create a convolutional neural network model\n",
    "    : x: Placeholder tensor that holds image data.\n",
    "    : keep_prob: Placeholder tensor that hold dropout keep probability.\n",
    "    : return: Tensor that represents logits\n",
    "    \"\"\"\n",
    "    # Conv1 Layer\n",
    "    x = conv2d_maxpool(x,32,(3,3),[1,1],[2,2],[2,2])\n",
    "    \n",
    "    # Conv2 Layer\n",
    "    x = conv2d_maxpool(x,64,(3,3),[1,1],[2,2],[2,2])\n",
    "    \n",
    "    # Conv3 Layer\n",
    "    x = conv2d_maxpool(x,256,(3,3),[1,1],[2,2],[2,2])\n",
    "\n",
    "    # Function Definition from Above:\n",
    "    x = flatten(x)\n",
    "    \n",
    "    \n",
    "    # Fully Connected Layer\n",
    "    x = fully_conn(x,128)\n",
    "    x = fully_conn(x,64)\n",
    "    x = tf.nn.dropout(x,keep_prob)\n",
    "    \n",
    "    # Output Layer\n",
    "    x = output(x,10)\n",
    "    x = tf.nn.dropout(x,keep_prob)\n",
    "    \n",
    "    # return output\n",
    "    return x\n",
    "\n",
    "\n",
    "\"\"\"\n",
    "DON'T MODIFY ANYTHING IN THIS CELL THAT IS BELOW THIS LINE\n",
    "\"\"\"\n",
    "\n",
    "##############################\n",
    "## Build the Neural Network ##\n",
    "##############################\n",
    "\n",
    "# Remove previous weights, bias, inputs, etc..\n",
    "tf.reset_default_graph()\n",
    "\n",
    "# Inputs\n",
    "x = neural_net_image_input((32, 32, 3))\n",
    "y = neural_net_label_input(10)\n",
    "keep_prob = neural_net_keep_prob_input()\n",
    "\n",
    "# Model\n",
    "logits = conv_net(x, keep_prob)\n",
    "\n",
    "# Name logits Tensor, so that is can be loaded from disk after training\n",
    "logits = tf.identity(logits, name='logits')\n",
    "\n",
    "# Loss and Optimizer\n",
    "cost = tf.reduce_mean(tf.nn.softmax_cross_entropy_with_logits(logits=logits, labels=y))\n",
    "optimizer = tf.train.AdamOptimizer().minimize(cost)\n",
    "\n",
    "# Accuracy\n",
    "correct_pred = tf.equal(tf.argmax(logits, 1), tf.argmax(y, 1))\n",
    "accuracy = tf.reduce_mean(tf.cast(correct_pred, tf.float32), name='accuracy')\n",
    "\n",
    "tests.test_conv_net(conv_net)"
   ]
  },
  {
   "cell_type": "markdown",
   "metadata": {},
   "source": [
    "## Train the Neural Network\n",
    "### Single Optimization\n",
    "Implement the function `train_neural_network` to do a single optimization.  The optimization should use `optimizer` to optimize in `session` with a `feed_dict` of the following:\n",
    "* `x` for image input\n",
    "* `y` for labels\n",
    "* `keep_prob` for keep probability for dropout\n",
    "\n",
    "This function will be called for each batch, so `tf.global_variables_initializer()` has already been called.\n",
    "\n",
    "Note: Nothing needs to be returned. This function is only optimizing the neural network."
   ]
  },
  {
   "cell_type": "code",
   "execution_count": 9,
   "metadata": {},
   "outputs": [
    {
     "name": "stdout",
     "output_type": "stream",
     "text": [
      "Tests Passed\n"
     ]
    }
   ],
   "source": [
    "def train_neural_network(session, optimizer, keep_probability, feature_batch, label_batch):\n",
    "    \"\"\"\n",
    "    Optimize the session on a batch of images and labels\n",
    "    : session: Current TensorFlow session\n",
    "    : optimizer: TensorFlow optimizer function\n",
    "    : keep_probability: keep probability\n",
    "    : feature_batch: Batch of Numpy image data\n",
    "    : label_batch: Batch of Numpy label data\n",
    "    \"\"\"\n",
    "    session.run(optimizer,feed_dict={x:feature_batch,y:label_batch,keep_prob:keep_probability})\n",
    "\n",
    "\n",
    "\"\"\"\n",
    "DON'T MODIFY ANYTHING IN THIS CELL THAT IS BELOW THIS LINE\n",
    "\"\"\"\n",
    "tests.test_train_nn(train_neural_network)"
   ]
  },
  {
   "cell_type": "markdown",
   "metadata": {},
   "source": [
    "### Show Stats\n",
    "Implement the function `print_stats` to print loss and validation accuracy.  Use the global variables `valid_features` and `valid_labels` to calculate validation accuracy.  Use a keep probability of `1.0` to calculate the loss and validation accuracy."
   ]
  },
  {
   "cell_type": "code",
   "execution_count": 10,
   "metadata": {
    "collapsed": true
   },
   "outputs": [],
   "source": [
    "def print_stats(session, feature_batch, label_batch, cost, accuracy):\n",
    "    \"\"\"\n",
    "    Print information about loss and validation accuracy\n",
    "    : session: Current TensorFlow session\n",
    "    : feature_batch: Batch of Numpy image data\n",
    "    : label_batch: Batch of Numpy label data\n",
    "    : cost: TensorFlow cost function\n",
    "    : accuracy: TensorFlow accuracy function\n",
    "    \"\"\"\n",
    "    #accuracy = accuracy.minimise(cost)\n",
    "    loss = session.run(cost, feed_dict={x: feature_batch, y: label_batch, keep_prob: 1.0})\n",
    "    validation_accuracy = session.run(accuracy, feed_dict={x: valid_features, y: valid_labels, keep_prob: 1.0})\n",
    "    print('Loss: {:>10.4f} Validation Accuracy: {:.6f}'.format(loss, validation_accuracy))"
   ]
  },
  {
   "cell_type": "markdown",
   "metadata": {},
   "source": [
    "### Hyperparameters\n",
    "Tune the following parameters:\n",
    "* Set `epochs` to the number of iterations until the network stops learning or start overfitting\n",
    "* Set `batch_size` to the highest number that your machine has memory for.  Most people set them to common sizes of memory:\n",
    " * 64\n",
    " * 128\n",
    " * 256\n",
    " * ...\n",
    "* Set `keep_probability` to the probability of keeping a node using dropout"
   ]
  },
  {
   "cell_type": "code",
   "execution_count": 17,
   "metadata": {
    "collapsed": true
   },
   "outputs": [],
   "source": [
    "# TODO: Tune Parameters\n",
    "epochs = 30\n",
    "batch_size = 1024\n",
    "keep_probability = 0.75"
   ]
  },
  {
   "cell_type": "markdown",
   "metadata": {},
   "source": [
    "### Train on a Single CIFAR-10 Batch\n",
    "Instead of training the neural network on all the CIFAR-10 batches of data, let's use a single batch. This should save time while you iterate on the model to get a better accuracy.  Once the final validation accuracy is 50% or greater, run the model on all the data in the next section."
   ]
  },
  {
   "cell_type": "code",
   "execution_count": 18,
   "metadata": {},
   "outputs": [
    {
     "name": "stdout",
     "output_type": "stream",
     "text": [
      "Checking the Training on a Single Batch...\n",
      "Epoch  1, CIFAR-10 Batch 1:  Loss:     2.2167 Validation Accuracy: 0.177800\n",
      "Epoch  2, CIFAR-10 Batch 1:  Loss:     2.0993 Validation Accuracy: 0.273000\n",
      "Epoch  3, CIFAR-10 Batch 1:  Loss:     2.0035 Validation Accuracy: 0.314000\n",
      "Epoch  4, CIFAR-10 Batch 1:  Loss:     1.9115 Validation Accuracy: 0.352800\n",
      "Epoch  5, CIFAR-10 Batch 1:  Loss:     1.8166 Validation Accuracy: 0.362600\n",
      "Epoch  6, CIFAR-10 Batch 1:  Loss:     1.7310 Validation Accuracy: 0.416400\n",
      "Epoch  7, CIFAR-10 Batch 1:  Loss:     1.6528 Validation Accuracy: 0.434200\n",
      "Epoch  8, CIFAR-10 Batch 1:  Loss:     1.5787 Validation Accuracy: 0.446400\n",
      "Epoch  9, CIFAR-10 Batch 1:  Loss:     1.5383 Validation Accuracy: 0.467000\n",
      "Epoch 10, CIFAR-10 Batch 1:  Loss:     1.5147 Validation Accuracy: 0.454800\n",
      "Epoch 11, CIFAR-10 Batch 1:  Loss:     1.4343 Validation Accuracy: 0.478400\n",
      "Epoch 12, CIFAR-10 Batch 1:  Loss:     1.4191 Validation Accuracy: 0.480000\n",
      "Epoch 13, CIFAR-10 Batch 1:  Loss:     1.3635 Validation Accuracy: 0.490600\n",
      "Epoch 14, CIFAR-10 Batch 1:  Loss:     1.3310 Validation Accuracy: 0.506600\n",
      "Epoch 15, CIFAR-10 Batch 1:  Loss:     1.2870 Validation Accuracy: 0.524200\n",
      "Epoch 16, CIFAR-10 Batch 1:  Loss:     1.2134 Validation Accuracy: 0.538600\n",
      "Epoch 17, CIFAR-10 Batch 1:  Loss:     1.2294 Validation Accuracy: 0.530200\n",
      "Epoch 18, CIFAR-10 Batch 1:  Loss:     1.1496 Validation Accuracy: 0.547800\n",
      "Epoch 19, CIFAR-10 Batch 1:  Loss:     1.1116 Validation Accuracy: 0.556200\n",
      "Epoch 20, CIFAR-10 Batch 1:  Loss:     1.1037 Validation Accuracy: 0.546400\n",
      "Epoch 21, CIFAR-10 Batch 1:  Loss:     1.0417 Validation Accuracy: 0.555600\n",
      "Epoch 22, CIFAR-10 Batch 1:  Loss:     1.0134 Validation Accuracy: 0.565600\n",
      "Epoch 23, CIFAR-10 Batch 1:  Loss:     0.9843 Validation Accuracy: 0.569600\n",
      "Epoch 24, CIFAR-10 Batch 1:  Loss:     0.9455 Validation Accuracy: 0.565400\n",
      "Epoch 25, CIFAR-10 Batch 1:  Loss:     0.9306 Validation Accuracy: 0.571000\n",
      "Epoch 26, CIFAR-10 Batch 1:  Loss:     0.8896 Validation Accuracy: 0.581200\n",
      "Epoch 27, CIFAR-10 Batch 1:  Loss:     0.8654 Validation Accuracy: 0.582200\n",
      "Epoch 28, CIFAR-10 Batch 1:  Loss:     0.8511 Validation Accuracy: 0.578600\n",
      "Epoch 29, CIFAR-10 Batch 1:  Loss:     0.8081 Validation Accuracy: 0.581200\n",
      "Epoch 30, CIFAR-10 Batch 1:  Loss:     0.8103 Validation Accuracy: 0.571400\n"
     ]
    }
   ],
   "source": [
    "\"\"\"\n",
    "DON'T MODIFY ANYTHING IN THIS CELL\n",
    "\"\"\"\n",
    "print('Checking the Training on a Single Batch...')\n",
    "with tf.Session() as sess:\n",
    "    # Initializing the variables\n",
    "    sess.run(tf.global_variables_initializer())\n",
    "    \n",
    "    # Training cycle\n",
    "    for epoch in range(epochs):\n",
    "        batch_i = 1\n",
    "        for batch_features, batch_labels in helper.load_preprocess_training_batch(batch_i, batch_size):\n",
    "            train_neural_network(sess, optimizer, keep_probability, batch_features, batch_labels)\n",
    "        print('Epoch {:>2}, CIFAR-10 Batch {}:  '.format(epoch + 1, batch_i), end='')\n",
    "        print_stats(sess, batch_features, batch_labels, cost, accuracy)"
   ]
  },
  {
   "cell_type": "markdown",
   "metadata": {},
   "source": [
    "### Fully Train the Model\n",
    "Now that you got a good accuracy with a single CIFAR-10 batch, try it with all five batches."
   ]
  },
  {
   "cell_type": "code",
   "execution_count": 19,
   "metadata": {},
   "outputs": [
    {
     "name": "stdout",
     "output_type": "stream",
     "text": [
      "Training...\n",
      "Epoch  1, CIFAR-10 Batch 1:  Loss:     2.2330 Validation Accuracy: 0.216200\n",
      "Epoch  1, CIFAR-10 Batch 2:  Loss:     2.0872 Validation Accuracy: 0.294200\n",
      "Epoch  1, CIFAR-10 Batch 3:  Loss:     1.8997 Validation Accuracy: 0.342200\n",
      "Epoch  1, CIFAR-10 Batch 4:  Loss:     1.8583 Validation Accuracy: 0.342400\n",
      "Epoch  1, CIFAR-10 Batch 5:  Loss:     1.7837 Validation Accuracy: 0.383000\n",
      "Epoch  2, CIFAR-10 Batch 1:  Loss:     1.7436 Validation Accuracy: 0.379200\n",
      "Epoch  2, CIFAR-10 Batch 2:  Loss:     1.7185 Validation Accuracy: 0.431800\n",
      "Epoch  2, CIFAR-10 Batch 3:  Loss:     1.5732 Validation Accuracy: 0.449600\n",
      "Epoch  2, CIFAR-10 Batch 4:  Loss:     1.5741 Validation Accuracy: 0.456000\n",
      "Epoch  2, CIFAR-10 Batch 5:  Loss:     1.5360 Validation Accuracy: 0.473400\n",
      "Epoch  3, CIFAR-10 Batch 1:  Loss:     1.4791 Validation Accuracy: 0.488600\n",
      "Epoch  3, CIFAR-10 Batch 2:  Loss:     1.4948 Validation Accuracy: 0.485200\n",
      "Epoch  3, CIFAR-10 Batch 3:  Loss:     1.3703 Validation Accuracy: 0.512400\n",
      "Epoch  3, CIFAR-10 Batch 4:  Loss:     1.3921 Validation Accuracy: 0.514200\n",
      "Epoch  3, CIFAR-10 Batch 5:  Loss:     1.3703 Validation Accuracy: 0.526600\n",
      "Epoch  4, CIFAR-10 Batch 1:  Loss:     1.3372 Validation Accuracy: 0.529000\n",
      "Epoch  4, CIFAR-10 Batch 2:  Loss:     1.3504 Validation Accuracy: 0.532200\n",
      "Epoch  4, CIFAR-10 Batch 3:  Loss:     1.2463 Validation Accuracy: 0.548400\n",
      "Epoch  4, CIFAR-10 Batch 4:  Loss:     1.2533 Validation Accuracy: 0.556000\n",
      "Epoch  4, CIFAR-10 Batch 5:  Loss:     1.2579 Validation Accuracy: 0.559400\n",
      "Epoch  5, CIFAR-10 Batch 1:  Loss:     1.2222 Validation Accuracy: 0.566000\n",
      "Epoch  5, CIFAR-10 Batch 2:  Loss:     1.2819 Validation Accuracy: 0.553000\n",
      "Epoch  5, CIFAR-10 Batch 3:  Loss:     1.1816 Validation Accuracy: 0.565200\n",
      "Epoch  5, CIFAR-10 Batch 4:  Loss:     1.1695 Validation Accuracy: 0.579200\n",
      "Epoch  5, CIFAR-10 Batch 5:  Loss:     1.1620 Validation Accuracy: 0.579000\n",
      "Epoch  6, CIFAR-10 Batch 1:  Loss:     1.1345 Validation Accuracy: 0.587000\n",
      "Epoch  6, CIFAR-10 Batch 2:  Loss:     1.1419 Validation Accuracy: 0.597200\n",
      "Epoch  6, CIFAR-10 Batch 3:  Loss:     1.0522 Validation Accuracy: 0.602000\n",
      "Epoch  6, CIFAR-10 Batch 4:  Loss:     1.0741 Validation Accuracy: 0.598400\n",
      "Epoch  6, CIFAR-10 Batch 5:  Loss:     1.0914 Validation Accuracy: 0.588400\n",
      "Epoch  7, CIFAR-10 Batch 1:  Loss:     1.0614 Validation Accuracy: 0.609200\n",
      "Epoch  7, CIFAR-10 Batch 2:  Loss:     1.0808 Validation Accuracy: 0.607400\n",
      "Epoch  7, CIFAR-10 Batch 3:  Loss:     1.0191 Validation Accuracy: 0.607600\n",
      "Epoch  7, CIFAR-10 Batch 4:  Loss:     1.0161 Validation Accuracy: 0.612600\n",
      "Epoch  7, CIFAR-10 Batch 5:  Loss:     1.0231 Validation Accuracy: 0.614200\n",
      "Epoch  8, CIFAR-10 Batch 1:  Loss:     1.0176 Validation Accuracy: 0.619200\n",
      "Epoch  8, CIFAR-10 Batch 2:  Loss:     1.0016 Validation Accuracy: 0.630600\n",
      "Epoch  8, CIFAR-10 Batch 3:  Loss:     0.9398 Validation Accuracy: 0.620200\n",
      "Epoch  8, CIFAR-10 Batch 4:  Loss:     0.9524 Validation Accuracy: 0.637200\n",
      "Epoch  8, CIFAR-10 Batch 5:  Loss:     0.9641 Validation Accuracy: 0.626400\n",
      "Epoch  9, CIFAR-10 Batch 1:  Loss:     0.9478 Validation Accuracy: 0.644200\n",
      "Epoch  9, CIFAR-10 Batch 2:  Loss:     0.9527 Validation Accuracy: 0.649400\n",
      "Epoch  9, CIFAR-10 Batch 3:  Loss:     0.8633 Validation Accuracy: 0.643400\n",
      "Epoch  9, CIFAR-10 Batch 4:  Loss:     0.8841 Validation Accuracy: 0.650000\n",
      "Epoch  9, CIFAR-10 Batch 5:  Loss:     0.8838 Validation Accuracy: 0.650600\n",
      "Epoch 10, CIFAR-10 Batch 1:  Loss:     0.8952 Validation Accuracy: 0.651600\n",
      "Epoch 10, CIFAR-10 Batch 2:  Loss:     0.9078 Validation Accuracy: 0.658200\n",
      "Epoch 10, CIFAR-10 Batch 3:  Loss:     0.8029 Validation Accuracy: 0.661400\n",
      "Epoch 10, CIFAR-10 Batch 4:  Loss:     0.8316 Validation Accuracy: 0.661200\n",
      "Epoch 10, CIFAR-10 Batch 5:  Loss:     0.8596 Validation Accuracy: 0.650200\n",
      "Epoch 11, CIFAR-10 Batch 1:  Loss:     0.8550 Validation Accuracy: 0.655200\n",
      "Epoch 11, CIFAR-10 Batch 2:  Loss:     0.8364 Validation Accuracy: 0.672400\n",
      "Epoch 11, CIFAR-10 Batch 3:  Loss:     0.7639 Validation Accuracy: 0.669400\n",
      "Epoch 11, CIFAR-10 Batch 4:  Loss:     0.7780 Validation Accuracy: 0.681000\n",
      "Epoch 11, CIFAR-10 Batch 5:  Loss:     0.7625 Validation Accuracy: 0.674600\n",
      "Epoch 12, CIFAR-10 Batch 1:  Loss:     0.8118 Validation Accuracy: 0.667000\n",
      "Epoch 12, CIFAR-10 Batch 2:  Loss:     0.8244 Validation Accuracy: 0.662400\n",
      "Epoch 12, CIFAR-10 Batch 3:  Loss:     0.7273 Validation Accuracy: 0.673800\n",
      "Epoch 12, CIFAR-10 Batch 4:  Loss:     0.7928 Validation Accuracy: 0.656200\n",
      "Epoch 12, CIFAR-10 Batch 5:  Loss:     0.7773 Validation Accuracy: 0.667600\n",
      "Epoch 13, CIFAR-10 Batch 1:  Loss:     0.7952 Validation Accuracy: 0.670400\n",
      "Epoch 13, CIFAR-10 Batch 2:  Loss:     0.8036 Validation Accuracy: 0.669800\n",
      "Epoch 13, CIFAR-10 Batch 3:  Loss:     0.7085 Validation Accuracy: 0.669200\n",
      "Epoch 13, CIFAR-10 Batch 4:  Loss:     0.7242 Validation Accuracy: 0.680000\n",
      "Epoch 13, CIFAR-10 Batch 5:  Loss:     0.7267 Validation Accuracy: 0.672600\n",
      "Epoch 14, CIFAR-10 Batch 1:  Loss:     0.7494 Validation Accuracy: 0.671800\n",
      "Epoch 14, CIFAR-10 Batch 2:  Loss:     0.7388 Validation Accuracy: 0.684200\n",
      "Epoch 14, CIFAR-10 Batch 3:  Loss:     0.6950 Validation Accuracy: 0.677400\n",
      "Epoch 14, CIFAR-10 Batch 4:  Loss:     0.6713 Validation Accuracy: 0.686200\n",
      "Epoch 14, CIFAR-10 Batch 5:  Loss:     0.6805 Validation Accuracy: 0.681200\n",
      "Epoch 15, CIFAR-10 Batch 1:  Loss:     0.7116 Validation Accuracy: 0.684000\n",
      "Epoch 15, CIFAR-10 Batch 2:  Loss:     0.7102 Validation Accuracy: 0.687000\n",
      "Epoch 15, CIFAR-10 Batch 3:  Loss:     0.6603 Validation Accuracy: 0.684600\n",
      "Epoch 15, CIFAR-10 Batch 4:  Loss:     0.6596 Validation Accuracy: 0.689200\n",
      "Epoch 15, CIFAR-10 Batch 5:  Loss:     0.6852 Validation Accuracy: 0.675600\n",
      "Epoch 16, CIFAR-10 Batch 1:  Loss:     0.6331 Validation Accuracy: 0.697600\n",
      "Epoch 16, CIFAR-10 Batch 2:  Loss:     0.6933 Validation Accuracy: 0.681200\n",
      "Epoch 16, CIFAR-10 Batch 3:  Loss:     0.6381 Validation Accuracy: 0.681400\n",
      "Epoch 16, CIFAR-10 Batch 4:  Loss:     0.6222 Validation Accuracy: 0.699200\n",
      "Epoch 16, CIFAR-10 Batch 5:  Loss:     0.6038 Validation Accuracy: 0.693400\n",
      "Epoch 17, CIFAR-10 Batch 1:  Loss:     0.6087 Validation Accuracy: 0.705400\n",
      "Epoch 17, CIFAR-10 Batch 2:  Loss:     0.6518 Validation Accuracy: 0.686400\n",
      "Epoch 17, CIFAR-10 Batch 3:  Loss:     0.6376 Validation Accuracy: 0.676200\n",
      "Epoch 17, CIFAR-10 Batch 4:  Loss:     0.6183 Validation Accuracy: 0.696000\n",
      "Epoch 17, CIFAR-10 Batch 5:  Loss:     0.5975 Validation Accuracy: 0.692000\n",
      "Epoch 18, CIFAR-10 Batch 1:  Loss:     0.5837 Validation Accuracy: 0.700800\n",
      "Epoch 18, CIFAR-10 Batch 2:  Loss:     0.6062 Validation Accuracy: 0.692800\n",
      "Epoch 18, CIFAR-10 Batch 3:  Loss:     0.5532 Validation Accuracy: 0.699000\n",
      "Epoch 18, CIFAR-10 Batch 4:  Loss:     0.6169 Validation Accuracy: 0.683200\n",
      "Epoch 18, CIFAR-10 Batch 5:  Loss:     0.5756 Validation Accuracy: 0.698800\n",
      "Epoch 19, CIFAR-10 Batch 1:  Loss:     0.5631 Validation Accuracy: 0.698200\n",
      "Epoch 19, CIFAR-10 Batch 2:  Loss:     0.5888 Validation Accuracy: 0.695600\n",
      "Epoch 19, CIFAR-10 Batch 3:  Loss:     0.5297 Validation Accuracy: 0.708800\n",
      "Epoch 19, CIFAR-10 Batch 4:  Loss:     0.5489 Validation Accuracy: 0.698000\n",
      "Epoch 19, CIFAR-10 Batch 5:  Loss:     0.5193 Validation Accuracy: 0.705200\n",
      "Epoch 20, CIFAR-10 Batch 1:  Loss:     0.5462 Validation Accuracy: 0.699200\n",
      "Epoch 20, CIFAR-10 Batch 2:  Loss:     0.5575 Validation Accuracy: 0.699200\n",
      "Epoch 20, CIFAR-10 Batch 3:  Loss:     0.4979 Validation Accuracy: 0.704400\n",
      "Epoch 20, CIFAR-10 Batch 4:  Loss:     0.5043 Validation Accuracy: 0.708000\n",
      "Epoch 20, CIFAR-10 Batch 5:  Loss:     0.4988 Validation Accuracy: 0.699800\n",
      "Epoch 21, CIFAR-10 Batch 1:  Loss:     0.5069 Validation Accuracy: 0.700200\n",
      "Epoch 21, CIFAR-10 Batch 2:  Loss:     0.5095 Validation Accuracy: 0.700200\n",
      "Epoch 21, CIFAR-10 Batch 3:  Loss:     0.4728 Validation Accuracy: 0.706000\n",
      "Epoch 21, CIFAR-10 Batch 4:  Loss:     0.4793 Validation Accuracy: 0.706400\n",
      "Epoch 21, CIFAR-10 Batch 5:  Loss:     0.4565 Validation Accuracy: 0.703000\n",
      "Epoch 22, CIFAR-10 Batch 1:  Loss:     0.4889 Validation Accuracy: 0.699400\n",
      "Epoch 22, CIFAR-10 Batch 2:  Loss:     0.4899 Validation Accuracy: 0.705200\n",
      "Epoch 22, CIFAR-10 Batch 3:  Loss:     0.4447 Validation Accuracy: 0.709600\n"
     ]
    },
    {
     "name": "stdout",
     "output_type": "stream",
     "text": [
      "Epoch 22, CIFAR-10 Batch 4:  Loss:     0.4408 Validation Accuracy: 0.710600\n",
      "Epoch 22, CIFAR-10 Batch 5:  Loss:     0.4408 Validation Accuracy: 0.706600\n",
      "Epoch 23, CIFAR-10 Batch 1:  Loss:     0.4732 Validation Accuracy: 0.697400\n",
      "Epoch 23, CIFAR-10 Batch 2:  Loss:     0.4836 Validation Accuracy: 0.705200\n",
      "Epoch 23, CIFAR-10 Batch 3:  Loss:     0.4331 Validation Accuracy: 0.709600\n",
      "Epoch 23, CIFAR-10 Batch 4:  Loss:     0.4359 Validation Accuracy: 0.703400\n",
      "Epoch 23, CIFAR-10 Batch 5:  Loss:     0.4713 Validation Accuracy: 0.690400\n",
      "Epoch 24, CIFAR-10 Batch 1:  Loss:     0.4521 Validation Accuracy: 0.700000\n",
      "Epoch 24, CIFAR-10 Batch 2:  Loss:     0.4443 Validation Accuracy: 0.709200\n",
      "Epoch 24, CIFAR-10 Batch 3:  Loss:     0.4518 Validation Accuracy: 0.698800\n",
      "Epoch 24, CIFAR-10 Batch 4:  Loss:     0.4474 Validation Accuracy: 0.688400\n",
      "Epoch 24, CIFAR-10 Batch 5:  Loss:     0.4274 Validation Accuracy: 0.705200\n",
      "Epoch 25, CIFAR-10 Batch 1:  Loss:     0.4481 Validation Accuracy: 0.702600\n",
      "Epoch 25, CIFAR-10 Batch 2:  Loss:     0.4291 Validation Accuracy: 0.707000\n",
      "Epoch 25, CIFAR-10 Batch 3:  Loss:     0.4107 Validation Accuracy: 0.699600\n",
      "Epoch 25, CIFAR-10 Batch 4:  Loss:     0.4772 Validation Accuracy: 0.682400\n",
      "Epoch 25, CIFAR-10 Batch 5:  Loss:     0.3793 Validation Accuracy: 0.709800\n",
      "Epoch 26, CIFAR-10 Batch 1:  Loss:     0.3913 Validation Accuracy: 0.717600\n",
      "Epoch 26, CIFAR-10 Batch 2:  Loss:     0.4338 Validation Accuracy: 0.705600\n",
      "Epoch 26, CIFAR-10 Batch 3:  Loss:     0.4285 Validation Accuracy: 0.681000\n",
      "Epoch 26, CIFAR-10 Batch 4:  Loss:     0.4513 Validation Accuracy: 0.687600\n",
      "Epoch 26, CIFAR-10 Batch 5:  Loss:     0.3904 Validation Accuracy: 0.700600\n",
      "Epoch 27, CIFAR-10 Batch 1:  Loss:     0.3625 Validation Accuracy: 0.717400\n",
      "Epoch 27, CIFAR-10 Batch 2:  Loss:     0.4138 Validation Accuracy: 0.708200\n",
      "Epoch 27, CIFAR-10 Batch 3:  Loss:     0.4057 Validation Accuracy: 0.700000\n",
      "Epoch 27, CIFAR-10 Batch 4:  Loss:     0.3687 Validation Accuracy: 0.714600\n",
      "Epoch 27, CIFAR-10 Batch 5:  Loss:     0.3393 Validation Accuracy: 0.705400\n",
      "Epoch 28, CIFAR-10 Batch 1:  Loss:     0.3644 Validation Accuracy: 0.711600\n",
      "Epoch 28, CIFAR-10 Batch 2:  Loss:     0.3694 Validation Accuracy: 0.711600\n",
      "Epoch 28, CIFAR-10 Batch 3:  Loss:     0.3776 Validation Accuracy: 0.700400\n",
      "Epoch 28, CIFAR-10 Batch 4:  Loss:     0.3500 Validation Accuracy: 0.715400\n",
      "Epoch 28, CIFAR-10 Batch 5:  Loss:     0.3125 Validation Accuracy: 0.711600\n",
      "Epoch 29, CIFAR-10 Batch 1:  Loss:     0.3569 Validation Accuracy: 0.705800\n",
      "Epoch 29, CIFAR-10 Batch 2:  Loss:     0.3616 Validation Accuracy: 0.710400\n",
      "Epoch 29, CIFAR-10 Batch 3:  Loss:     0.3390 Validation Accuracy: 0.716000\n",
      "Epoch 29, CIFAR-10 Batch 4:  Loss:     0.3734 Validation Accuracy: 0.687800\n",
      "Epoch 29, CIFAR-10 Batch 5:  Loss:     0.3476 Validation Accuracy: 0.696600\n",
      "Epoch 30, CIFAR-10 Batch 1:  Loss:     0.3673 Validation Accuracy: 0.705200\n",
      "Epoch 30, CIFAR-10 Batch 2:  Loss:     0.3891 Validation Accuracy: 0.705800\n",
      "Epoch 30, CIFAR-10 Batch 3:  Loss:     0.3256 Validation Accuracy: 0.716600\n",
      "Epoch 30, CIFAR-10 Batch 4:  Loss:     0.3014 Validation Accuracy: 0.708200\n",
      "Epoch 30, CIFAR-10 Batch 5:  Loss:     0.3071 Validation Accuracy: 0.705000\n"
     ]
    }
   ],
   "source": [
    "\"\"\"\n",
    "DON'T MODIFY ANYTHING IN THIS CELL\n",
    "\"\"\"\n",
    "save_model_path = './image_classification'\n",
    "\n",
    "print('Training...')\n",
    "with tf.Session() as sess:\n",
    "    # Initializing the variables\n",
    "    sess.run(tf.global_variables_initializer())\n",
    "    \n",
    "    # Training cycle\n",
    "    for epoch in range(epochs):\n",
    "        # Loop over all batches\n",
    "        n_batches = 5\n",
    "        for batch_i in range(1, n_batches + 1):\n",
    "            for batch_features, batch_labels in helper.load_preprocess_training_batch(batch_i, batch_size):\n",
    "                train_neural_network(sess, optimizer, keep_probability, batch_features, batch_labels)\n",
    "            print('Epoch {:>2}, CIFAR-10 Batch {}:  '.format(epoch + 1, batch_i), end='')\n",
    "            print_stats(sess, batch_features, batch_labels, cost, accuracy)\n",
    "            \n",
    "    # Save Model\n",
    "    saver = tf.train.Saver()\n",
    "    save_path = saver.save(sess, save_model_path)"
   ]
  },
  {
   "cell_type": "markdown",
   "metadata": {},
   "source": [
    "# Checkpoint\n",
    "The model has been saved to disk.\n",
    "## Test Model\n",
    "Test your model against the test dataset.  This will be your final accuracy. You should have an accuracy greater than 50%. If you don't, keep tweaking the model architecture and parameters."
   ]
  },
  {
   "cell_type": "code",
   "execution_count": 20,
   "metadata": {},
   "outputs": [
    {
     "name": "stdout",
     "output_type": "stream",
     "text": [
      "INFO:tensorflow:Restoring parameters from ./image_classification\n",
      "Testing Accuracy: 0.7005560457706451\n",
      "\n"
     ]
    },
    {
     "data": {
      "image/png": "[encoded data removed]",
      "text/plain": [
       "<matplotlib.figure.Figure at 0x7f88d0530e48>"
      ]
     },
     "metadata": {
      "image/png": {
       "height": 319,
       "width": 355
      }
     },
     "output_type": "display_data"
    }
   ],
   "source": [
    "\"\"\"\n",
    "DON'T MODIFY ANYTHING IN THIS CELL\n",
    "\"\"\"\n",
    "%matplotlib inline\n",
    "%config InlineBackend.figure_format = 'retina'\n",
    "\n",
    "import tensorflow as tf\n",
    "import pickle\n",
    "import helper\n",
    "import random\n",
    "\n",
    "# Set batch size if not already set\n",
    "try:\n",
    "    if batch_size:\n",
    "        pass\n",
    "except NameError:\n",
    "    batch_size = 64\n",
    "\n",
    "save_model_path = './image_classification'\n",
    "n_samples = 4\n",
    "top_n_predictions = 3\n",
    "\n",
    "def test_model():\n",
    "    \"\"\"\n",
    "    Test the saved model against the test dataset\n",
    "    \"\"\"\n",
    "\n",
    "    test_features, test_labels = pickle.load(open('preprocess_test.p', mode='rb'))\n",
    "    loaded_graph = tf.Graph()\n",
    "\n",
    "    with tf.Session(graph=loaded_graph) as sess:\n",
    "        # Load model\n",
    "        loader = tf.train.import_meta_graph(save_model_path + '.meta')\n",
    "        loader.restore(sess, save_model_path)\n",
    "\n",
    "        # Get Tensors from loaded model\n",
    "        loaded_x = loaded_graph.get_tensor_by_name('x:0')\n",
    "        loaded_y = loaded_graph.get_tensor_by_name('y:0')\n",
    "        loaded_keep_prob = loaded_graph.get_tensor_by_name('keep_prob:0')\n",
    "        loaded_logits = loaded_graph.get_tensor_by_name('logits:0')\n",
    "        loaded_acc = loaded_graph.get_tensor_by_name('accuracy:0')\n",
    "        \n",
    "        # Get accuracy in batches for memory limitations\n",
    "        test_batch_acc_total = 0\n",
    "        test_batch_count = 0\n",
    "        \n",
    "        for test_feature_batch, test_label_batch in helper.batch_features_labels(test_features, test_labels, batch_size):\n",
    "            test_batch_acc_total += sess.run(\n",
    "                loaded_acc,\n",
    "                feed_dict={loaded_x: test_feature_batch, loaded_y: test_label_batch, loaded_keep_prob: 1.0})\n",
    "            test_batch_count += 1\n",
    "\n",
    "        print('Testing Accuracy: {}\\n'.format(test_batch_acc_total/test_batch_count))\n",
    "\n",
    "        # Print Random Samples\n",
    "        random_test_features, random_test_labels = tuple(zip(*random.sample(list(zip(test_features, test_labels)), n_samples)))\n",
    "        random_test_predictions = sess.run(\n",
    "            tf.nn.top_k(tf.nn.softmax(loaded_logits), top_n_predictions),\n",
    "            feed_dict={loaded_x: random_test_features, loaded_y: random_test_labels, loaded_keep_prob: 1.0})\n",
    "        helper.display_image_predictions(random_test_features, random_test_labels, random_test_predictions)\n",
    "\n",
    "\n",
    "test_model()"
   ]
  },
  {
   "cell_type": "markdown",
   "metadata": {},
   "source": [
    "## Why 50-80% Accuracy?\n",
    "You might be wondering why you can't get an accuracy any higher. First things first, 50% isn't bad for a simple CNN.  Pure guessing would get you 10% accuracy. However, you might notice people are getting scores [well above 80%](http://rodrigob.github.io/are_we_there_yet/build/classification_datasets_results.html#43494641522d3130).  That's because we haven't taught you all there is to know about neural networks. We still need to cover a few more techniques.\n",
    "## Submitting This Project\n",
    "When submitting this project, make sure to run all the cells before saving the notebook.  Save the notebook file as \"dlnd_image_classification.ipynb\" and save it as a HTML file under \"File\" -> \"Download as\".  Include the \"helper.py\" and \"problem_unittests.py\" files in your submission."
   ]
  }
 ],
 "metadata": {
  "kernelspec": {
   "display_name": "Python [default]",
   "language": "python",
   "name": "python3"
  },
  "language_info": {
   "codemirror_mode": {
    "name": "ipython",
    "version": 3
   },
   "file_extension": ".py",
   "mimetype": "text/x-python",
   "name": "python",
   "nbconvert_exporter": "python",
   "pygments_lexer": "ipython3",
   "version": "3.6.3"
  }
 },
 "nbformat": 4,
 "nbformat_minor": 1
}
